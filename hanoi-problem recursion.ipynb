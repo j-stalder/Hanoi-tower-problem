{
 "cells": [
  {
   "cell_type": "markdown",
   "metadata": {},
   "source": [
    "# The hanoi problem\n",
    "Solved by using recursion."
   ]
  },
  {
   "cell_type": "code",
   "execution_count": 1,
   "metadata": {},
   "outputs": [],
   "source": [
    "#move a object from(f) one place to the target(t)\n",
    "def move(f,t):\n",
    "    print(\"move disc form {} to {}!\".format(f,t))"
   ]
  },
  {
   "cell_type": "code",
   "execution_count": 2,
   "metadata": {},
   "outputs": [
    {
     "name": "stdout",
     "output_type": "stream",
     "text": [
      "move disc form A to C!\n"
     ]
    }
   ],
   "source": [
    "move(\"A\",\"C\")"
   ]
  },
  {
   "cell_type": "code",
   "execution_count": 3,
   "metadata": {},
   "outputs": [],
   "source": [
    "#move a object from(f) via(v) to the target(t)\n",
    "def moveVia(f,v,t):\n",
    "    move(f,v)\n",
    "    move(v,t)"
   ]
  },
  {
   "cell_type": "code",
   "execution_count": 4,
   "metadata": {},
   "outputs": [
    {
     "name": "stdout",
     "output_type": "stream",
     "text": [
      "move disc form A to B!\n",
      "move disc form B to C!\n"
     ]
    }
   ],
   "source": [
    "moveVia(\"A\",\"B\",\"C\")"
   ]
  },
  {
   "cell_type": "code",
   "execution_count": 7,
   "metadata": {},
   "outputs": [],
   "source": [
    "#actual hanoi problem, in order not no solve negative amounts of objects we need the pass statement\n",
    "def hanoi(n,f,h,t):\n",
    "    if n==0:\n",
    "        pass\n",
    "    else:\n",
    "        hanoi(n-1,f,t,h)\n",
    "        move(f,t)\n",
    "        hanoi(n-1,h,f,t)"
   ]
  },
  {
   "cell_type": "code",
   "execution_count": 8,
   "metadata": {},
   "outputs": [
    {
     "name": "stdout",
     "output_type": "stream",
     "text": [
      "move disc form A to C!\n",
      "move disc form A to B!\n",
      "move disc form C to B!\n",
      "move disc form A to C!\n",
      "move disc form B to A!\n",
      "move disc form B to C!\n",
      "move disc form A to C!\n",
      "move disc form A to B!\n",
      "move disc form C to B!\n",
      "move disc form C to A!\n",
      "move disc form B to A!\n",
      "move disc form C to B!\n",
      "move disc form A to C!\n",
      "move disc form A to B!\n",
      "move disc form C to B!\n",
      "move disc form A to C!\n",
      "move disc form B to A!\n",
      "move disc form B to C!\n",
      "move disc form A to C!\n",
      "move disc form B to A!\n",
      "move disc form C to B!\n",
      "move disc form C to A!\n",
      "move disc form B to A!\n",
      "move disc form B to C!\n",
      "move disc form A to C!\n",
      "move disc form A to B!\n",
      "move disc form C to B!\n",
      "move disc form A to C!\n",
      "move disc form B to A!\n",
      "move disc form B to C!\n",
      "move disc form A to C!\n"
     ]
    }
   ],
   "source": [
    "hanoi(5,\"A\",\"B\",\"C\")"
   ]
  },
  {
   "cell_type": "code",
   "execution_count": null,
   "metadata": {},
   "outputs": [],
   "source": []
  }
 ],
 "metadata": {
  "kernelspec": {
   "display_name": "Python 3",
   "language": "python",
   "name": "python3"
  },
  "language_info": {
   "codemirror_mode": {
    "name": "ipython",
    "version": 3
   },
   "file_extension": ".py",
   "mimetype": "text/x-python",
   "name": "python",
   "nbconvert_exporter": "python",
   "pygments_lexer": "ipython3",
   "version": "3.7.6"
  }
 },
 "nbformat": 4,
 "nbformat_minor": 4
}
